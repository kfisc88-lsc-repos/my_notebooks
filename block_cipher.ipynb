{
 "cells": [
  {
   "cell_type": "code",
   "execution_count": 1,
   "metadata": {},
   "outputs": [],
   "source": [
    "from grid import Grid\n",
    "import random"
   ]
  },
  {
   "cell_type": "code",
   "execution_count": 16,
   "metadata": {},
   "outputs": [],
   "source": [
    "def makeMatrix():\n",
    "    \"\"\"Builds and returns an encryption matrix\"\"\"\n",
    "    listOfChars = []\n",
    "    for ascii in range(32, 128):\n",
    "        listOfChars.append(chr(ascii))\n",
    "    random.shuffle(listOfChars)\n",
    "    matrix = Grid(8, 12)\n",
    "    i = 0\n",
    "    for row in range(matrix.getHeight()):\n",
    "        for column in range(matrix.getWidth()):\n",
    "            matrix[row][column] = listOfChars[i]\n",
    "            i += 1\n",
    "    return matrix\n",
    "    \n",
    "def encrypt(plainText, matrix):\n",
    "    \"\"\"Uses matrix to encrypt plainText, and returns cipherText.\"\"\"\n",
    "    cipherText = \"\"\n",
    "    limit = len(plainText)\n",
    "    # Adjust for an odd number of characters\n",
    "    if limit % 2 == 1:\n",
    "        limit -= 1\n",
    "    # Use the matrix to encrypt pairs of characters\n",
    "    i = 0\n",
    "    while i < limit:\n",
    "        cipherText += encryptPair(plainText, i, matrix)\n",
    "        i += 2\n",
    "    # Add the last character if length was odd\n",
    "    if limit < len(plainText):\n",
    "        cipherText += plainText[limit]\n",
    "    return cipherText\n",
    "    \n",
    "def encryptPair(plainText, i, matrix):\n",
    "    \"\"\"Returns the cipherText of the pair of characters at i and i + 1 in plainText.\"\"\"\n",
    "    # Locate the characters in the matrix\n",
    "    (row1, col1) = matrix.find(plainText[i])\n",
    "    (row2, col2) = matrix.find(plainText[i + 1])\n",
    "    # Swap them if they are in the same row or column\n",
    "    if row1 == row2 or col1 == col2:\n",
    "        return plainText[i + 1] + plainText[i]\n",
    "    # Otherwise, use the characters at the opposite corners of the rectangel in the matrix\n",
    "    else:\n",
    "        ch1 = matrix[row2][col1]\n",
    "        ch2 = matrix[row1][col2]\n",
    "        return ch1 + ch2\n",
    "\n",
    "def decrypt(cipherText, matrix):\n",
    "    \"\"\"Uses amatrix to decrypt cipherText and returns plainText.\"\"\"\n",
    "    return encrypt(cipherText, matrix)"
   ]
  }
 ],
 "metadata": {
  "kernelspec": {
   "display_name": "Python 3",
   "language": "python",
   "name": "python3"
  },
  "language_info": {
   "codemirror_mode": {
    "name": "ipython",
    "version": 3
   },
   "file_extension": ".py",
   "mimetype": "text/x-python",
   "name": "python",
   "nbconvert_exporter": "python",
   "pygments_lexer": "ipython3",
   "version": "3.7.4"
  }
 },
 "nbformat": 4,
 "nbformat_minor": 2
}
