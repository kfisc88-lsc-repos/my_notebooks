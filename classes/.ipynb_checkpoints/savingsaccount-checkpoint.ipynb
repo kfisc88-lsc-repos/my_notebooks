{
 "cells": [
  {
   "cell_type": "code",
   "execution_count": 2,
   "metadata": {},
   "outputs": [
    {
     "data": {
      "text/plain": [
       "'\\nFile: savingsaccount.py\\nThis module defines the SavingsAccount class.\\n'"
      ]
     },
     "execution_count": 2,
     "metadata": {},
     "output_type": "execute_result"
    }
   ],
   "source": [
    "\"\"\"\n",
    "File: savingsaccount.py\n",
    "This module defines the SavingsAccount class.\n",
    "\"\"\""
   ]
  },
  {
   "cell_type": "code",
   "execution_count": 36,
   "metadata": {},
   "outputs": [],
   "source": [
    "class SavingsAccount(object):\n",
    "    \"\"\"This class represents a savings account with the owner's name, PIN, and balance.\"\"\"\n",
    "    \n",
    "    RATE = 0.02    # Rate for all accounts\n",
    "    \n",
    "    def __init__(self, name, pin, balance = 0.00):\n",
    "        self.name = name\n",
    "        self.pin = pin\n",
    "        self.balance = balance\n",
    "        \n",
    "    def __str__(self):\n",
    "        \"\"\"Returns the string rep.\"\"\"\n",
    "        result =  'Name:       {}\\n'.format(self.name)\n",
    "        result += 'PIN:        {}\\n'.format(self.pin)\n",
    "        result += 'Balance:    {}\\n'.format(self.balance)\n",
    "        return result\n",
    "    \n",
    "    def getBalance(self):\n",
    "        \"\"\"Returns the current balance.\"\"\"\n",
    "        return self.balance\n",
    "    \n",
    "    def getName(self):\n",
    "        \"\"\"Returns the current name.\"\"\"\n",
    "        return self.name\n",
    "    \n",
    "    def getPin(self):\n",
    "        \"\"\"Returns the current pin.\"\"\"\n",
    "        return self.pin\n",
    "    \n",
    "    def deposit(self, amount):\n",
    "        \"\"\"Deposits a given amount into the current account.\"\"\"\n",
    "        self.balance += amount\n",
    "        return f'Your new balance is: {self.balance:1.2f}'"
   ]
  },
  {
   "cell_type": "code",
   "execution_count": 37,
   "metadata": {},
   "outputs": [],
   "source": [
    "myaccount = SavingsAccount('Kelley Fischer', '1234')"
   ]
  },
  {
   "cell_type": "code",
   "execution_count": 38,
   "metadata": {},
   "outputs": [
    {
     "name": "stdout",
     "output_type": "stream",
     "text": [
      "Name:       Kelley Fischer\n",
      "PIN:        1234\n",
      "Balance:    0.0\n",
      "\n"
     ]
    }
   ],
   "source": [
    "print(myaccount)"
   ]
  },
  {
   "cell_type": "code",
   "execution_count": 39,
   "metadata": {},
   "outputs": [
    {
     "data": {
      "text/plain": [
       "'Your new balance is: 5.00'"
      ]
     },
     "execution_count": 39,
     "metadata": {},
     "output_type": "execute_result"
    }
   ],
   "source": [
    "myaccount.deposit(5.00)"
   ]
  },
  {
   "cell_type": "code",
   "execution_count": null,
   "metadata": {},
   "outputs": [],
   "source": []
  }
 ],
 "metadata": {
  "kernelspec": {
   "display_name": "Python 3",
   "language": "python",
   "name": "python3"
  },
  "language_info": {
   "codemirror_mode": {
    "name": "ipython",
    "version": 3
   },
   "file_extension": ".py",
   "mimetype": "text/x-python",
   "name": "python",
   "nbconvert_exporter": "python",
   "pygments_lexer": "ipython3",
   "version": "3.6.8"
  }
 },
 "nbformat": 4,
 "nbformat_minor": 2
}
