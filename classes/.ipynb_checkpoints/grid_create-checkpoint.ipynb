{
 "cells": [
  {
   "cell_type": "code",
   "execution_count": 20,
   "metadata": {},
   "outputs": [],
   "source": [
    "class Grid(object):\n",
    "    \n",
    "    def __init__(self, rows, columns, fillValue = None):\n",
    "        self.data = []\n",
    "        \n",
    "        for row in range(rows):\n",
    "            dataInRow = []\n",
    "            for column in range(columns):\n",
    "                dataInRow.append(fillValue)\n",
    "            self.data.append(dataInRow)\n",
    "    \n",
    "    def getHeight(self):\n",
    "        return len(self.data)\n",
    "    \n",
    "    \n",
    "    def getWidth(self):\n",
    "        return len(self.data[0])\n",
    "    \n",
    "    \n",
    "    def __getitem__(self, index):\n",
    "        \"\"\"Supports 2d indexing with [][]\"\"\"\n",
    "        return self.data[index]\n",
    "    \n",
    "    \n",
    "    def find(self, value):\n",
    "        \"\"\"Returns a row-column pair if value is found, None otherwise\"\"\"\n",
    "        for row in range(self.getHeight()):\n",
    "            for column in range(self.getWidth()):\n",
    "                if(self[row][column] == value):\n",
    "                    return(row+1, column+1)\n",
    "        return None\n",
    "    \n",
    "    \n",
    "    def __str__(self):\n",
    "        \"\"\"Returns a string of the grid\"\"\"\n",
    "        result = \"\"        \n",
    "        for row in range(self.getHeight()):\n",
    "            for col in range(self.getWidth()):\n",
    "                result += str(self.data[row][col]) + \" \"\n",
    "            result += \"\\n\"\n",
    "        return result"
   ]
  },
  {
   "cell_type": "code",
   "execution_count": 21,
   "metadata": {},
   "outputs": [],
   "source": [
    "mygrid = Grid(rows=5,columns=5,fillValue=0)"
   ]
  },
  {
   "cell_type": "code",
   "execution_count": 22,
   "metadata": {},
   "outputs": [],
   "source": [
    "mygrid[2][2]= 5"
   ]
  },
  {
   "cell_type": "code",
   "execution_count": 23,
   "metadata": {},
   "outputs": [
    {
     "name": "stdout",
     "output_type": "stream",
     "text": [
      "0 0 0 0 0 \n",
      "0 0 0 0 0 \n",
      "0 0 5 0 0 \n",
      "0 0 0 0 0 \n",
      "0 0 0 0 0 \n",
      "\n"
     ]
    }
   ],
   "source": [
    "print(mygrid)"
   ]
  },
  {
   "cell_type": "code",
   "execution_count": 24,
   "metadata": {},
   "outputs": [
    {
     "data": {
      "text/plain": [
       "(3, 3)"
      ]
     },
     "execution_count": 24,
     "metadata": {},
     "output_type": "execute_result"
    }
   ],
   "source": [
    "mygrid.find(5)"
   ]
  },
  {
   "cell_type": "code",
   "execution_count": null,
   "metadata": {},
   "outputs": [],
   "source": []
  }
 ],
 "metadata": {
  "kernelspec": {
   "display_name": "Python 3",
   "language": "python",
   "name": "python3"
  },
  "language_info": {
   "codemirror_mode": {
    "name": "ipython",
    "version": 3
   },
   "file_extension": ".py",
   "mimetype": "text/x-python",
   "name": "python",
   "nbconvert_exporter": "python",
   "pygments_lexer": "ipython3",
   "version": "3.6.8"
  }
 },
 "nbformat": 4,
 "nbformat_minor": 2
}
