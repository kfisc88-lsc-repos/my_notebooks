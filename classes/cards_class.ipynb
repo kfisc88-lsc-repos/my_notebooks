{
 "cells": [
  {
   "cell_type": "code",
   "execution_count": 29,
   "metadata": {},
   "outputs": [],
   "source": [
    "from random import *"
   ]
  },
  {
   "cell_type": "code",
   "execution_count": 49,
   "metadata": {},
   "outputs": [],
   "source": [
    "class Card(object):\n",
    "    \"\"\"A card object\"\"\"\n",
    "    \n",
    "    RANKS = tuple(range(1,14))\n",
    "    SUITS = (\"Spades\", \"Diamonds\", \"Hearts\", \"Clubs\")\n",
    "    \n",
    "    def __init__(self, rank, suit):\n",
    "        \"\"\"Creates a card object with a given rank and suit\"\"\"\n",
    "        self.rank = self.RANKS[rank]\n",
    "        self.suit = self.SUITS[suit]\n",
    "        \n",
    "    def __str__(self):\n",
    "        \"\"\"Returns a string representation ofa card\"\"\"\n",
    "        if(self.rank == 1):\n",
    "            rank = \"Ace\"\n",
    "        elif(self.rank == 11):\n",
    "            rank = \"Jack\"\n",
    "        elif(self.rank == 12):\n",
    "            rank = \"Queen\"\n",
    "        elif(self.rank == 13):\n",
    "            rank = \"King\"\n",
    "        else:\n",
    "            rank = self.rank\n",
    "            \n",
    "        return f\"{rank} of {self.suit}\"\n",
    "    \n",
    "    def __lt__(self, other):\n",
    "        return self.rank < other.rank        \n",
    "        \n",
    "    def __ge__(self, other):\n",
    "        return self.rank >= other.rank\n",
    "        "
   ]
  },
  {
   "cell_type": "code",
   "execution_count": 50,
   "metadata": {},
   "outputs": [],
   "source": [
    "hand = []"
   ]
  },
  {
   "cell_type": "code",
   "execution_count": 51,
   "metadata": {},
   "outputs": [],
   "source": [
    "for count in range(5):\n",
    "    hand.append(Card(randint(0,12), randint(0,3)))"
   ]
  },
  {
   "cell_type": "code",
   "execution_count": 52,
   "metadata": {},
   "outputs": [
    {
     "name": "stdout",
     "output_type": "stream",
     "text": [
      "King of Hearts\n",
      "Queen of Clubs\n",
      "10 of Diamonds\n",
      "Jack of Hearts\n",
      "9 of Spades\n"
     ]
    }
   ],
   "source": [
    "for count in range(len(hand)):\n",
    "    print(hand[count])"
   ]
  },
  {
   "cell_type": "code",
   "execution_count": 71,
   "metadata": {},
   "outputs": [
    {
     "name": "stdout",
     "output_type": "stream",
     "text": [
      "True\n"
     ]
    }
   ],
   "source": [
    "print(hand[randint(0,4)] > hand[randint(0,4)])"
   ]
  },
  {
   "cell_type": "code",
   "execution_count": null,
   "metadata": {},
   "outputs": [],
   "source": []
  }
 ],
 "metadata": {
  "kernelspec": {
   "display_name": "Python 3",
   "language": "python",
   "name": "python3"
  },
  "language_info": {
   "codemirror_mode": {
    "name": "ipython",
    "version": 3
   },
   "file_extension": ".py",
   "mimetype": "text/x-python",
   "name": "python",
   "nbconvert_exporter": "python",
   "pygments_lexer": "ipython3",
   "version": "3.6.8"
  }
 },
 "nbformat": 4,
 "nbformat_minor": 2
}
