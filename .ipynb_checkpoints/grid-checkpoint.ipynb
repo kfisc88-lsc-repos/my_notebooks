{
 "cells": [
  {
   "cell_type": "code",
   "execution_count": 17,
   "metadata": {},
   "outputs": [],
   "source": [
    "class Grid(object):\n",
    "    \"\"\"Represents a two-dimensional grid.\"\"\"\n",
    "    \n",
    "    def __init__(self, rows, columns, fillValue = None):\n",
    "        \"\"\"Sets up that data.\"\"\"\n",
    "        self.data = []\n",
    "        for row in range(rows):\n",
    "            dataInRow = []\n",
    "            for column in range(columns):\n",
    "                dataInRow.append(fillValue)\n",
    "            self.data.append(dataInRow)\n",
    "    \n",
    "    \n",
    "    def getHeight(self):\n",
    "        \"\"\"Returns the number of rows.\"\"\"\n",
    "        return len(self.data)\n",
    "    \n",
    "    \n",
    "    def getWidth(self):\n",
    "        \"\"\"Returns the number of columns\"\"\"\n",
    "        return len(self.data[0])\n",
    "    \n",
    "    \n",
    "    def __str__(self):\n",
    "        \"\"\"Returns a string representation of the grid.\"\"\"\n",
    "        result = \"\"\n",
    "        for row in range(self.getHeight()):\n",
    "            for col in range(self.getWidth()):\n",
    "                result += f'{self.data[row][col]} '\n",
    "            result += '\\n'\n",
    "        return result\n",
    "    \n",
    "    \n",
    "    def __getitem__(self, index):\n",
    "        \"\"\"Supports two-dmimensional indexing with [][] (index represents a row number).\"\"\"\n",
    "        return self.data[index]\n",
    "    \n",
    "    \n",
    "    def find(self, value):\n",
    "        \"\"\"Returns (row, column) if value is found or None otherwise.\"\"\"\n",
    "        for row in range(self.getHeight()):\n",
    "            for column in range(self.getWidth()):\n",
    "                if self[row][column] == value:\n",
    "                    return (row, column)\n",
    "        return"
   ]
  }
 ],
 "metadata": {
  "kernelspec": {
   "display_name": "Python 3",
   "language": "python",
   "name": "python3"
  },
  "language_info": {
   "codemirror_mode": {
    "name": "ipython",
    "version": 3
   },
   "file_extension": ".py",
   "mimetype": "text/x-python",
   "name": "python",
   "nbconvert_exporter": "python",
   "pygments_lexer": "ipython3",
   "version": "3.7.4"
  }
 },
 "nbformat": 4,
 "nbformat_minor": 2
}
