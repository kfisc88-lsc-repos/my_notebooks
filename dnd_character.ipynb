{
 "cells": [
  {
   "cell_type": "code",
   "execution_count": 41,
   "metadata": {},
   "outputs": [],
   "source": [
    "from breezypythongui import EasyFrame\n",
    "from random import randint\n",
    "import pickle"
   ]
  },
  {
   "cell_type": "code",
   "execution_count": 67,
   "metadata": {},
   "outputs": [],
   "source": [
    "class Character(object):\n",
    "    \"\"\"Creates a randomized DnD Character\"\"\"\n",
    "    \n",
    "    def __init__(self):\n",
    "        \n",
    "        firstName = ['Azeal', 'Beliard', 'Corsynth', 'Dyradun', 'Erras', 'Gurren']\n",
    "        lastName = [' the Blade', ' the Hammer', ' the Kind', ', Champion of Good', ' the Destoyer', ' the Herald of Dawn', ', Night\\'s Warden']\n",
    "        \n",
    "        # Character name\n",
    "        self.name = firstName[randint(0, len(firstName)-1)] + lastName[randint(0, len(lastName)-1)]\n",
    "        \n",
    "        # Character stats\n",
    "        self.stats = {'STR':0, 'DEX':0, 'CON':0, 'WIS':0, 'INT':0, 'CHA':0}\n",
    "        \n",
    "    \n",
    "    def __str__(self):\n",
    "        print(f'{self.name}\\n')\n",
    "        \n",
    "        result = \"\"\n",
    "        for stat in self.stats.keys():\n",
    "            result += f'{stat}: {self.stats[stat]}\\n'\n",
    "        return result\n",
    "    \n",
    "    def getStats(self):\n",
    "        \"\"\"Determines random stat values by simulating 4 die rolls, discarding the lowest.\"\"\"\n",
    "        for key in self.stats.keys():\n",
    "            self.stats[key] = randint(3, 18)\n",
    "            \n",
    "    def save(self):\n",
    "        \"\"\"Saves pickled characters to a file. The parameter allows the user to change filenames.\"\"\"\n",
    "#         if fileName != None:\n",
    "#             self.fileName = fileName\n",
    "#         elif self.fileName == None:\n",
    "#             return\n",
    "#         fileName = self.name\n",
    "        fileObj = open(self.name, \"wb\")\n",
    "        pickle.dump(self.name, fileObj)\n",
    "        fileObj.close()"
   ]
  },
  {
   "cell_type": "code",
   "execution_count": 68,
   "metadata": {},
   "outputs": [],
   "source": [
    "mychar = Character()"
   ]
  },
  {
   "cell_type": "code",
   "execution_count": 69,
   "metadata": {},
   "outputs": [
    {
     "data": {
      "text/plain": [
       "<__main__.Character at 0x6318070>"
      ]
     },
     "execution_count": 69,
     "metadata": {},
     "output_type": "execute_result"
    }
   ],
   "source": [
    "mychar"
   ]
  },
  {
   "cell_type": "code",
   "execution_count": 70,
   "metadata": {},
   "outputs": [
    {
     "name": "stdout",
     "output_type": "stream",
     "text": [
      "Dyradun, Champion of Good\n",
      "\n",
      "STR: 0\n",
      "DEX: 0\n",
      "CON: 0\n",
      "WIS: 0\n",
      "INT: 0\n",
      "CHA: 0\n",
      "\n"
     ]
    }
   ],
   "source": [
    "print(mychar)"
   ]
  },
  {
   "cell_type": "code",
   "execution_count": 71,
   "metadata": {},
   "outputs": [],
   "source": [
    "mychar.getStats()"
   ]
  },
  {
   "cell_type": "code",
   "execution_count": 72,
   "metadata": {},
   "outputs": [
    {
     "name": "stdout",
     "output_type": "stream",
     "text": [
      "Dyradun, Champion of Good\n",
      "\n",
      "STR: 10\n",
      "DEX: 10\n",
      "CON: 3\n",
      "WIS: 7\n",
      "INT: 16\n",
      "CHA: 8\n",
      "\n"
     ]
    }
   ],
   "source": [
    "print(mychar)"
   ]
  },
  {
   "cell_type": "code",
   "execution_count": 73,
   "metadata": {},
   "outputs": [],
   "source": [
    "mychar.save()"
   ]
  },
  {
   "cell_type": "code",
   "execution_count": null,
   "metadata": {},
   "outputs": [],
   "source": []
  }
 ],
 "metadata": {
  "kernelspec": {
   "display_name": "Python 3",
   "language": "python",
   "name": "python3"
  },
  "language_info": {
   "codemirror_mode": {
    "name": "ipython",
    "version": 3
   },
   "file_extension": ".py",
   "mimetype": "text/x-python",
   "name": "python",
   "nbconvert_exporter": "python",
   "pygments_lexer": "ipython3",
   "version": "3.7.4"
  }
 },
 "nbformat": 4,
 "nbformat_minor": 2
}
