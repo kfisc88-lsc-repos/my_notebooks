{
 "cells": [
  {
   "cell_type": "markdown",
   "metadata": {},
   "source": [
    "Formatting with the .format() method\n",
    "---\n",
    "**Syntax:**\n",
    "```Python \n",
    "print(\"I like to eat {} and {}, but not {}\".format('insert_here','insert_here','insert_here'))\n",
    "```\n",
    "The `'insert here'` text will be placed into the `{}` in the order they appear as the parameters of the format method."
   ]
  },
  {
   "cell_type": "code",
   "execution_count": 1,
   "metadata": {},
   "outputs": [
    {
     "name": "stdout",
     "output_type": "stream",
     "text": [
      "I like to eat apples and bananas, but not oranges\n"
     ]
    }
   ],
   "source": [
    "print(\"I like to eat {} and {}, but not {}\".format('apples','bananas','oranges'))"
   ]
  },
  {
   "cell_type": "markdown",
   "metadata": {},
   "source": [
    "Each occurence of `{}` can be passed an index position instead, replacing the `{}` with the item from format at that index"
   ]
  },
  {
   "cell_type": "code",
   "execution_count": 2,
   "metadata": {},
   "outputs": [
    {
     "name": "stdout",
     "output_type": "stream",
     "text": [
      "I like to eat bananas and bananas, but not bananas\n"
     ]
    }
   ],
   "source": [
    "print(\"I like to eat {1} and {1}, but not {1}\".format('apples','bananas','oranges'))"
   ]
  },
  {
   "cell_type": "markdown",
   "metadata": {},
   "source": [
    "`.format` allows the assingment of keywords using variable definitions "
   ]
  },
  {
   "cell_type": "code",
   "execution_count": 3,
   "metadata": {},
   "outputs": [
    {
     "name": "stdout",
     "output_type": "stream",
     "text": [
      "I like to eat apples and bananas, but not oranges\n"
     ]
    }
   ],
   "source": [
    "print(\"I like to eat {a} and {b}, but not {o}\".format(a='apples',b='bananas',o='oranges'))"
   ]
  },
  {
   "cell_type": "code",
   "execution_count": 4,
   "metadata": {},
   "outputs": [
    {
     "name": "stdout",
     "output_type": "stream",
     "text": [
      "I like to eat bananas and oranges, but not apples\n"
     ]
    }
   ],
   "source": [
    "print(\"I like to eat {b} and {o}, but not {a}\".format(a='apples',b='bananas',o='oranges'))"
   ]
  },
  {
   "cell_type": "markdown",
   "metadata": {},
   "source": [
    "### Formatting floats\n",
    "\n",
    "**Syntax:**\n",
    "```Python\n",
    "print(\"Your chances are {value:width.precision f}\".format(r=chance))\n",
    "```\n",
    "\n",
    "Assuming a float `chance`, it is used as a keyword `r` in the format method.\n",
    "+ `value` is the value of `r`\n",
    "+ `width` determines the maximum length of the float\n",
    "+ `precision` is how many places over from the decimal it returns"
   ]
  },
  {
   "cell_type": "code",
   "execution_count": 7,
   "metadata": {},
   "outputs": [],
   "source": [
    "chance = 65/100"
   ]
  },
  {
   "cell_type": "code",
   "execution_count": 8,
   "metadata": {},
   "outputs": [
    {
     "data": {
      "text/plain": [
       "0.65"
      ]
     },
     "execution_count": 8,
     "metadata": {},
     "output_type": "execute_result"
    }
   ],
   "source": [
    "chance"
   ]
  },
  {
   "cell_type": "code",
   "execution_count": 11,
   "metadata": {},
   "outputs": [
    {
     "name": "stdout",
     "output_type": "stream",
     "text": [
      "Your chances are 0.65\n"
     ]
    }
   ],
   "source": [
    "print(\"Your chances are {r:1.2f}\".format(r=chance))"
   ]
  }
 ],
 "metadata": {
  "kernelspec": {
   "display_name": "Python 3",
   "language": "python",
   "name": "python3"
  },
  "language_info": {
   "codemirror_mode": {
    "name": "ipython",
    "version": 3
   },
   "file_extension": ".py",
   "mimetype": "text/x-python",
   "name": "python",
   "nbconvert_exporter": "python",
   "pygments_lexer": "ipython3",
   "version": "3.6.8"
  }
 },
 "nbformat": 4,
 "nbformat_minor": 2
}
